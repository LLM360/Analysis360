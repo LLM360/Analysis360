{
 "cells": [
  {
   "cell_type": "markdown",
   "metadata": {},
   "source": [
    "# Toxic Detection"
   ]
  },
  {
   "cell_type": "markdown",
   "metadata": {},
   "source": [
    "[single_ckpt_toxic_detection.py](single_ckpt_toxic_detection.py) evaluates model's ability to identify toxic text. Three benchmarks are supported: [sbf](https://aclanthology.org/2020.acl-main.486.pdf), [dynahate](https://arxiv.org/abs/2012.15761), and [toxigen](https://arxiv.org/abs/2203.09509)."
   ]
  },
  {
   "cell_type": "markdown",
   "metadata": {},
   "source": [
    "Following is a command to evaluate ``LLM360/CrystalChat`` on all three benchmarks. "
   ]
  },
  {
   "cell_type": "code",
   "execution_count": 3,
   "metadata": {},
   "outputs": [
    {
     "name": "stdout",
     "output_type": "stream",
     "text": [
      "Loading checkpoint shards: 100%|██████████████████| 2/2 [00:02<00:00,  1.42s/it]\n",
      "Special tokens have been added in the vocabulary, make sure the associated word embeddings are fine-tuned or trained.\n",
      "Dataset sbf loaded\n",
      "Predicting toxicity on sbf: 100%|█████████████████| 8/8 [00:24<00:00,  3.00s/it]\n",
      "Dataset dynahate loaded\n",
      "Predicting toxicity on dynahate: 100%|████████████| 8/8 [00:17<00:00,  2.19s/it]\n",
      "Dataset toxigen loaded\n",
      "Predicting toxicity on toxigen: 100%|█████████████| 8/8 [00:21<00:00,  2.68s/it]\n",
      "Model CrystalChat detection error rate on task sbf: 243/1024 = 0.2373046875\n",
      "Model CrystalChat detection error rate on task dynahate: 308/1024 = 0.30078125\n",
      "Model CrystalChat detection error rate on task toxigen: 60/1024 = 0.05859375\n",
      "Results saved to ./CrystalChat_results.jsonl\n"
     ]
    }
   ],
   "source": [
    "!python single_ckpt_toxic_detection.py --model_name LLM360/CrystalChat \\\n",
    "                                       --task_keys sbf,dynahate,toxigen"
   ]
  }
 ],
 "metadata": {
  "kernelspec": {
   "display_name": "unlearn360",
   "language": "python",
   "name": "python3"
  },
  "language_info": {
   "codemirror_mode": {
    "name": "ipython",
    "version": 3
   },
   "file_extension": ".py",
   "mimetype": "text/x-python",
   "name": "python",
   "nbconvert_exporter": "python",
   "pygments_lexer": "ipython3",
   "version": "3.11.9"
  }
 },
 "nbformat": 4,
 "nbformat_minor": 2
}
