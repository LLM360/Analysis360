{
 "cells": [
  {
   "cell_type": "markdown",
   "metadata": {},
   "source": [
    "# Memorization Demo"
   ]
  },
  {
   "cell_type": "markdown",
   "metadata": {},
   "source": [
    "[single_ckpt_memorization_eval.py](single_ckpt_memorization_eval.py) evaluates model training data memorization with [_memorization score_](https://arxiv.org/abs/2012.07805) which indicates the accuracy of tokens in the continuation of length *l* with a prompt of length *k*,\n",
    "\n",
    "$$\n",
    "\\text{score}(k, l) = \\frac{1}{l} \\sum_{i=1}^{l} \\mathbb{1}[S_{k+i} = G_{k+i}]\n",
    "$$\n",
    "\n",
    "where $S_{0:k+l}$ is the sequence from training data, while $G_{k:k+l}$ is the generated sequence with prompt $S_{0:k}$. A _memorized_ or [*k*-extractible](https://arxiv.org/abs/2012.07805) sequence has a memorization score of 1. We conduct our experiments with $k = l = 32$. For each data chunk, we sampled 1000 sequences and used the first 64 tokens of each sequence."
   ]
  },
  {
   "cell_type": "markdown",
   "metadata": {},
   "source": [
    "#### ``--ckpt_id 355, --data_id 355``"
   ]
  },
  {
   "cell_type": "markdown",
   "metadata": {},
   "source": [
    "For the first part, we evaluate the model meorization of ``ckpt_355`` and its latest exposed data chunk ``train_355``. Based on the result, there are $0.016\\%$ memorized sequences, and the average memorization score is $0.1055$."
   ]
  },
  {
   "cell_type": "code",
   "execution_count": 1,
   "metadata": {},
   "outputs": [
    {
     "name": "stdout",
     "output_type": "stream",
     "text": [
      "Loading checkpoint shards: 100%|██████████████████| 3/3 [00:03<00:00,  1.09s/it]\n",
      "Creating json from Arrow format: 100%|████████████| 1/1 [00:00<00:00, 84.15ba/s]\n",
      "train_355.jsonl saved locally at data/train_355.jsonl\n",
      "Evaluating memorization of ckpt_355 on train_355: 100%|█| 32/32 [01:15<00:00,  2\n",
      "Full Match %: 0.016\n",
      "Memorization Score: 0.10546875\n",
      "Results saved to result_355/355.json\n"
     ]
    }
   ],
   "source": [
    "!python single_ckpt_memorization_eval.py --ckpt_id 355 --data_id 355"
   ]
  },
  {
   "cell_type": "markdown",
   "metadata": {},
   "source": [
    "#### ``--ckpt_id 355, --data_id 143``"
   ]
  },
  {
   "cell_type": "markdown",
   "metadata": {},
   "source": [
    "Next, we evaluate ``ckpt_355`` and an early data chunk ``train_143``. Based on the result, there are $0.01\\%$ memorized sequences, and the average memorization score is $0.1007$."
   ]
  },
  {
   "cell_type": "code",
   "execution_count": 2,
   "metadata": {},
   "outputs": [
    {
     "name": "stdout",
     "output_type": "stream",
     "text": [
      "Loading checkpoint shards: 100%|██████████████████| 3/3 [00:03<00:00,  1.08s/it]\n",
      "Creating json from Arrow format: 100%|████████████| 1/1 [00:00<00:00, 94.92ba/s]\n",
      "train_143.jsonl saved locally at data/train_143.jsonl\n",
      "Evaluating memorization of ckpt_355 on train_143: 100%|█| 32/32 [01:15<00:00,  2\n",
      "Full Match %: 0.01\n",
      "Memorization Score: 0.1006875\n",
      "Results saved to result_355/143.json\n"
     ]
    }
   ],
   "source": [
    "!python single_ckpt_memorization_eval.py --ckpt_id 355 --data_id 143 --skip_local"
   ]
  }
 ],
 "metadata": {
  "kernelspec": {
   "display_name": "unlearn360",
   "language": "python",
   "name": "python3"
  },
  "language_info": {
   "codemirror_mode": {
    "name": "ipython",
    "version": 3
   },
   "file_extension": ".py",
   "mimetype": "text/x-python",
   "name": "python",
   "nbconvert_exporter": "python",
   "pygments_lexer": "ipython3",
   "version": "3.11.9"
  }
 },
 "nbformat": 4,
 "nbformat_minor": 2
}
